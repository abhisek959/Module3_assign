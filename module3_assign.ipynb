{
  "nbformat": 4,
  "nbformat_minor": 0,
  "metadata": {
    "colab": {
      "provenance": []
    },
    "kernelspec": {
      "name": "python3",
      "display_name": "Python 3"
    },
    "language_info": {
      "name": "python"
    }
  },
  "cells": [
    {
      "cell_type": "code",
      "execution_count": null,
      "metadata": {
        "id": "w8hE-p9zosk5"
      },
      "outputs": [],
      "source": []
    },
    {
      "cell_type": "markdown",
      "source": [
        "Q1.What is Python, and why is it popular?\n",
        "\n",
        "A-> Python is a high level, interpreted programming language which is known for its versatality and simplicity making it popular in fields like web developement, data science and machine learning, etc. It was created by Guido van rossum.\n",
        "\n",
        "Python is popular because of so many reasons such as:-\n",
        "\n",
        "1-> Easy to learn and read for beginners as it uses simple english like syntax.\n",
        "\n",
        "2-> It is versatile and multi-purpose as it can be used in web development, data science, automation, artificial intelligence , machine learning , game developement,etc.\n",
        "\n",
        "3-> Python has many libraries such as-  \n",
        "    Numpy, Pandas for data science.\n",
        "    Django, Flask for web development.\n",
        "    \n",
        "4-> Python is compatible across platforms as it runs on windows, MacOs, Linux.\n",
        "\n"
      ],
      "metadata": {
        "id": "Lt-kxSTKpWHz"
      }
    },
    {
      "cell_type": "markdown",
      "source": [
        "Q2.What is an interpreter in Python?\n",
        "\n",
        "A-> An interpreter in python is a program which executes python code line by line rather than compiling the entire code at once. Since the code is run line by line errors can be detected instantly."
      ],
      "metadata": {
        "id": "wOHkNL1vujAz"
      }
    },
    {
      "cell_type": "markdown",
      "source": [
        "Q3.What are pre-defined keywords in Python?\n",
        "\n",
        "A-> Predefined keywords in python are reserved words that have special meaning and purpose and cannot be used as variable name, function name. These keywords are useful for python syntax. There are 35 predefined keywords in pyhton 3.10.\n",
        "Some examples are if, for, while, True, False, break, etc."
      ],
      "metadata": {
        "id": "NeMho6QjvwpO"
      }
    },
    {
      "cell_type": "markdown",
      "source": [
        "Q4. Can keywords be used as variable names?\n",
        "\n",
        "A-> No, python keywords can not be used as variable names as they have pedefined meaning and are useful for python syntax. Using them as variabl names will give syntax errors."
      ],
      "metadata": {
        "id": "uMsAxK29xPIh"
      }
    },
    {
      "cell_type": "markdown",
      "source": [
        "Q5. What is mutability in Python?\n",
        "\n",
        "A-> Mutability in python means whether an object's value can be changed once it has been created.\n",
        "\n",
        "Mutable objects are the ones whose value and be modified. Examples of mutable objects are list, dictionary, sets.\n",
        "\n",
        "Immutable objects are the ones whose value cannot be chaged after its creation. Examples of immutable objects are integers, floats, strings, tuple."
      ],
      "metadata": {
        "id": "bjf_Zzbgx1Xd"
      }
    },
    {
      "cell_type": "markdown",
      "source": [
        "Q6. Why are lists mutable, but tuples are immutable?\n",
        "A-> Lists are meant to be flexible to allow for modifications and hence are store in dynamic memory and thus are mutable. Tuples, on the other hand, are optimized for perfomance and memory efficiency. So they are stored in statci memory and are immutable."
      ],
      "metadata": {
        "id": "s17CHv7F02VE"
      }
    },
    {
      "cell_type": "markdown",
      "source": [
        "Q7. What is the difference between \"==\" and \"is\" operator in python?\n",
        "\n",
        "A-> Both are comparison operators but they serve different purposes.\n",
        "   \"==\" operator checks whether two objects values are same.\n",
        "   \"is\" operator checks whether two objects refer to the same location in memory.\n",
        "\n",
        "example-> a=[4,5,6]\n",
        "          b=[4,5,6]\n",
        "\n",
        "Now, \"a==b\" will give us True as values are same\n",
        "but \"a is b\" will give us False as they are two different variables located at different memory locations."
      ],
      "metadata": {
        "id": "NGi76bXI7xTg"
      }
    },
    {
      "cell_type": "markdown",
      "source": [
        "Q8. What are logical operators in python?\n",
        "\n",
        "A-> Logical operators are used to combine conditional statements in python and give a boolean value as output. There are 3 logical operators in python:\n",
        "\n",
        "1.And- returns True if both conditions are else returns False.\n",
        "\n",
        "2.Or- returns False if both conditions are False and returns True otherwise.\n",
        "\n",
        "3.Not- It gives opposite boolean value of the expression. If True it gives False and if False it gives True."
      ],
      "metadata": {
        "id": "wRqbd0Zy9T-7"
      }
    },
    {
      "cell_type": "markdown",
      "source": [
        "Q9. What is typecasting in python?\n",
        "\n",
        "A-> Typecasting, also known as type conversion, in python is converting one data type into another. It can be done either explicitly or implicitly."
      ],
      "metadata": {
        "id": "o8fdVPyxEZ7T"
      }
    },
    {
      "cell_type": "markdown",
      "source": [
        "Q10. What is the difference between implicit and explicit type casting?\n",
        "\n",
        "A-> In explicit typecasting we manually convert one data type into another.\n",
        "example-> float(5) will convert 5, which is an integer, into float i.e 5.0.\n",
        "\n",
        "In implicit typecasting, python automatically converts smaller data types into larger data types, while performing operations, to prevent data loss.\n",
        "example-> it automatically converts boolean to integer when we add a boolean value to an interger.\n",
        "Similarly it automatically converts integer to float when we add an integer to a float.\n",
        "\n",
        "\n"
      ],
      "metadata": {
        "id": "YpmH871YFL9z"
      }
    },
    {
      "cell_type": "markdown",
      "source": [
        "Q.11 What is the purpose of conditonal statements in python?\n",
        "\n",
        "A-> Conditional statements like if,elif,else allow us to execute a different set of codes based on whether a condition is true or false, thus enabling us to make dynamic and responsive programs.\n",
        "it enables us to make programs which can handle different scenarios. It also increases efficiency by avoiding unnecessary codes and executing only that block of codes whose conditions are met."
      ],
      "metadata": {
        "id": "yul5ZFreWHxA"
      }
    },
    {
      "cell_type": "markdown",
      "source": [
        "Q.12 How does the elif statement work?\n",
        "A-> It is used when we need to check multiple conditions one after another. Python checks several conditions sequentially and executes the first set of codes where the conditions are true.\n",
        "\n",
        "Python starts to check conditions from \"if\" statement.\n",
        "If the conditions under \"if\" statement is True then it executes it and skips the rest of codes.\n",
        "If the conditions under \"if\" statement is False then it evalutes the conditions under first elif statement.\n",
        "If the conditions under first elif statement is True, then it executes it and skips remaining block of codes.\n",
        "If all \"if\" and \"elif\" conditons fail, it executes codes under \"else\" statement.\n"
      ],
      "metadata": {
        "id": "ETrvX9l_YaUY"
      }
    },
    {
      "cell_type": "markdown",
      "source": [
        "Q.13 What is the difference between for and while loop?\n",
        "\n",
        "A->For loop is used when the number of iteration is known. It is used to iterate over a sequence like list,tuple, dictionary, strings, etc. It stops when all the items in a sequence are exhausted.\n",
        "\n",
        "While loop is used when number of iteration is not known. It runs till a specific condition becomes False. It may require manual termination to avoid infinite loop."
      ],
      "metadata": {
        "id": "hMl8yRP7anAz"
      }
    },
    {
      "cell_type": "markdown",
      "source": [
        "Q.14 Describe a scenario where a while loop is more suitable than a for loop?\n",
        "\n",
        "A-> Asking a user to enter password until they enter a correct one. As we don't know how many attempts a user will take before entering a correct password. So the loop should keep running until user enters correct password."
      ],
      "metadata": {
        "id": "IqzMAgL1hmLf"
      }
    },
    {
      "cell_type": "code",
      "source": [
        "# Q1. Write a Python program to print \"Hello, World!\n",
        "\n",
        "print(\"Hello, World!\")"
      ],
      "metadata": {
        "id": "5xfwFj9Oi8o8"
      },
      "execution_count": null,
      "outputs": []
    },
    {
      "cell_type": "code",
      "source": [
        "# Q2. Write a Python program that displays your name and age.\n",
        "\n",
        "name=\"Abhisek kumar\"\n",
        "age=29\n",
        "print(f\"My name is {name} and i am {age} years old.\")"
      ],
      "metadata": {
        "id": "cBUl1PgbjS3J"
      },
      "execution_count": null,
      "outputs": []
    },
    {
      "cell_type": "code",
      "source": [
        "# Q3. Write code to print all the pre-defined keywords in Python using the keyword library\n",
        "\n",
        "import keyword\n",
        "print(keyword.kwlist)"
      ],
      "metadata": {
        "id": "lHtBRkMRjt2H"
      },
      "execution_count": null,
      "outputs": []
    },
    {
      "cell_type": "code",
      "source": [
        "# Q4. 0 Write a program that checks if a given word is a Python keyword\n",
        "\n",
        "import keyword\n",
        "word=\"False\"\n",
        "if keyword.iskeyword(word):\n",
        "    print(f\"{word} is a python keyword\")\n",
        "else:\n",
        "    print(f\"{word} is not a python keyword\")\n",
        "\n"
      ],
      "metadata": {
        "id": "CecUMAuQkDVs"
      },
      "execution_count": null,
      "outputs": []
    },
    {
      "cell_type": "code",
      "source": [
        "#  Q5. 0 Write a program that checks if a given word is a Python keyword\n",
        "\n",
        "a=[2,3,4,5] # created a list\n",
        "print(a)\n",
        "a[2]=99  # Tried to Modify a list and the list will be modified\n",
        "print(a)\n",
        "my_tuple=(23,4,67,90) #Created a tuple\n",
        "print(my_tuple)\n",
        "my_tuple[3]=-56  # Tried to modify a tupel which will throw a type error meaning tuples dont allow modification.\n",
        "print(my_tuple)"
      ],
      "metadata": {
        "id": "F7vKVu_fk7cK"
      },
      "execution_count": null,
      "outputs": []
    },
    {
      "cell_type": "code",
      "source": [
        "# Q6.  Write a function to demonstrate the behavior of mutable and immutable arguments\n",
        "def change_arg(mutable,immutable):\n",
        "  mutable.pop()          #tried to change mutable argument\n",
        "  immutable+=99          #tried to change immutable argument\n",
        "  print(\"inside function(mutable):\",mutable)\n",
        "  print(\"inside function(immutable):\",immutable)\n",
        "\n",
        "\n",
        "a=[23,45,67,89] #mutable argument i.e list\n",
        "b=67  # immutable argument i.e integer\n",
        "print(a)  #printing before calling of function\n",
        "print(b)   #printing before calling of function\n",
        "change_arg(a,b)   #passed argument through function\n",
        "print(a)   # printing local variable \"a\" after calling of function. Value changes due to mutability\n",
        "print(b)   # printing local variable \"b\" after calling of function. Value does not change due to immutability.\n",
        "\n",
        "\"\"\"\n",
        "Immutable objects do not change outside of the function as python creates new object for modification, whereas mutable objects are modified\n",
        "directly which affects their original value outside of the function.\n",
        "\"\"\"\n"
      ],
      "metadata": {
        "id": "Uu48yZ2IvfRZ"
      },
      "execution_count": null,
      "outputs": []
    },
    {
      "cell_type": "code",
      "source": [
        "# Q7.  Write a function to demonstrate the behavior of mutable and immutable arguments\n",
        "\n",
        "# Q6 and Q7 are same so answer is also same.\n",
        "\n",
        "def change_arg(mutable,immutable):\n",
        "  mutable.pop()          #tried to change mutable argument\n",
        "  immutable+=99          #tried to change immutable argument\n",
        "  print(\"inside function(mutable):\",mutable)\n",
        "  print(\"inside function(immutable):\",immutable)\n",
        "\n",
        "\n",
        "a=[23,45,67,89] #mutable argument i.e list\n",
        "b=67  # immutable argument i.e integer\n",
        "print(a)  #printing before calling of function\n",
        "print(b)   #printing before calling of function\n",
        "change_arg(a,b)   #passed argument through function\n",
        "print(a)   # printing local variable \"a\" after calling of function. Value changes due to mutability\n",
        "print(b)   # printing local variable \"b\" after calling of function. Value does not change due to immutability.\n",
        "\n",
        "\"\"\"\n",
        "Immutable objects do not change outside of the function as python creates new object for modification, whereas mutable objects are modified\n",
        "directly which affects their original value outside of the function.\n",
        "\"\"\"\n"
      ],
      "metadata": {
        "id": "xm067sDE0EwV"
      },
      "execution_count": null,
      "outputs": []
    },
    {
      "cell_type": "code",
      "source": [
        "# Q8.  Write a program to demonstrate the use of logical operators\n",
        "\n",
        "# Logical operators i.e and, or, not.\n",
        "# created variables\n",
        "a= 20\n",
        "b= 30\n",
        "c= 40\n",
        "\n",
        "# using AND operator(both conditions must be True)\n",
        "print(\"And Operator:-\")\n",
        "print(a<b and b<c) # True + True = True\n",
        "print(a==b and b<c) # False + True = False\n",
        "\n",
        "# using OR operator(Atleast one conditions must be True)\n",
        "print(\"Or Operator:-\")\n",
        "print(a==b or b<c) # False + True = False\n",
        "\n",
        "# using not operator(reverses the boolean value)\n",
        "print(\"Not operator\")\n",
        "print(not(a<b and b<c))  # not(True)-> False\n",
        "\n",
        "\n"
      ],
      "metadata": {
        "id": "hj_Ph0E83BRF"
      },
      "execution_count": null,
      "outputs": []
    },
    {
      "cell_type": "code",
      "source": [
        "# Q9. Write a Python program to convert user input from string to integer, float, and boolean type\n",
        "\n",
        "user_input=input(\"Enter a value = \")\n",
        "\n",
        "# converting to integer\n",
        "try:\n",
        "  print(int(user_input))\n",
        "except ValueError:\n",
        "  print(\"Cannot convert to integer\")\n",
        "\n",
        "\n",
        "# converting to float\n",
        "try:\n",
        "  print(float(user_input))\n",
        "except ValueError:\n",
        "  print(\"Cannot convert to float\")\n",
        "\n",
        "# converting to boolean\n",
        "\n",
        "print(bool(user_input)) # any empty string will be False, else it will always give true\n",
        "\n",
        "\n",
        "\n"
      ],
      "metadata": {
        "id": "sEsKnRu79mtg"
      },
      "execution_count": null,
      "outputs": []
    },
    {
      "cell_type": "code",
      "source": [
        "# Q.10  Write code to demonstrate type casting with list elements.\n",
        "\n",
        "my_list=[\"10\", \"20.5\", \"True\", \"False\", \"hello\"]\n",
        "new_list=[]\n",
        "\n",
        "for i in my_list:\n",
        "  try:\n",
        "    new_list.append(int(i))\n",
        "\n",
        "  except ValueError:\n",
        "    try:\n",
        "      new_list.append(float(i))\n",
        "\n",
        "    except ValueError:\n",
        "      if i.lower()==\"true\":\n",
        "        new_list.append(True)\n",
        "\n",
        "      elif i.lower()==\"false\":\n",
        "        new_list.append(False)\n",
        "\n",
        "      else:\n",
        "        new_list.append(i)\n",
        "\n",
        "print(new_list)\n",
        "\n"
      ],
      "metadata": {
        "id": "aHy1uuzQ_eHp"
      },
      "execution_count": null,
      "outputs": []
    },
    {
      "cell_type": "code",
      "source": [
        "# Q.11  Write a program that checks if a number is positive, negative, or zero\n",
        "\n",
        "a=9\n",
        "if a>0:\n",
        "  print(f\"{a} is positive\")\n",
        "elif a<0:\n",
        "  print(f\"{a} is negative\")\n",
        "else:\n",
        "  print(f\"{a} is equal to zero\")\n",
        "\n"
      ],
      "metadata": {
        "id": "eUk-Kf7QF-yV"
      },
      "execution_count": null,
      "outputs": []
    },
    {
      "cell_type": "code",
      "source": [
        "# Q.12 Write a for loop to print numbers from 1 to 100\n",
        "\n",
        "for i in range(1,101):\n",
        "  print(i,end=\" \")"
      ],
      "metadata": {
        "id": "U9619GlvGp0M"
      },
      "execution_count": null,
      "outputs": []
    },
    {
      "cell_type": "code",
      "source": [
        "# Q.13 Write a Python program to find the sum of all even numbers between 1 and 50\n",
        "\n",
        "sum=0\n",
        "for i in range(1,51):\n",
        "  if i%2==0:\n",
        "    sum+=i\n",
        "print(sum)\n",
        "\n"
      ],
      "metadata": {
        "id": "4w0KRIUrHAYr"
      },
      "execution_count": null,
      "outputs": []
    },
    {
      "cell_type": "code",
      "source": [
        "# Q.14 Write a program to reverse a string using a while loop\n",
        "\n",
        "my_string=\"emaculate\"\n",
        "reversed_string=\"\"\n",
        "position=len(my_string)-1\n",
        "\n",
        "while position >=0:\n",
        "  reversed_string+=my_string[position]\n",
        "  position-=1\n",
        "\n",
        "print(reversed_string)\n"
      ],
      "metadata": {
        "id": "frVqkBI4Hquv"
      },
      "execution_count": null,
      "outputs": []
    },
    {
      "cell_type": "code",
      "source": [
        "# Q15.Write a Python program to calculate the factorial of a number provided by the user using a while loop.\n",
        "\n",
        "user_input=int(input(\"Enter number = \"))\n",
        "counter=1\n",
        "factorial=1\n",
        "while counter <= user_input:\n",
        "  factorial*=counter\n",
        "  counter+=1\n",
        "\n",
        "print(factorial)\n",
        "\n",
        "\n"
      ],
      "metadata": {
        "id": "G4dQw3pdLYXq"
      },
      "execution_count": null,
      "outputs": []
    }
  ]
}