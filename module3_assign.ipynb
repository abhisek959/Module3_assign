{
  "nbformat": 4,
  "nbformat_minor": 0,
  "metadata": {
    "colab": {
      "provenance": []
    },
    "kernelspec": {
      "name": "python3",
      "display_name": "Python 3"
    },
    "language_info": {
      "name": "python"
    }
  },
  "cells": [
    {
      "cell_type": "code",
      "execution_count": null,
      "metadata": {
        "id": "w8hE-p9zosk5"
      },
      "outputs": [],
      "source": []
    },
    {
      "cell_type": "markdown",
      "source": [
        "Q1.What is Python, and why is it popular?\n",
        "\n",
        "A-> Python is a high level, interpreted programming language which is known for its versatality and simplicity making it popular in fields like web developement, data science and machine learning, etc. It was created by Guido van rossum.\n",
        "\n",
        "Python is popular because of so many reasons such as:-\n",
        "\n",
        "1-> Easy to learn and read for beginners as it uses simple english like syntax.\n",
        "\n",
        "2-> It is versatile and multi-purpose as it can be used in web development, data science, automation, artificial intelligence , machine learning , game developement,etc.\n",
        "\n",
        "3-> Python has many libraries such as-  \n",
        "    Numpy, Pandas for data science.\n",
        "    Django, Flask for web development.\n",
        "    \n",
        "4-> Python is compatible across platforms as it runs on windows, MacOs, Linux.\n",
        "\n"
      ],
      "metadata": {
        "id": "Lt-kxSTKpWHz"
      }
    },
    {
      "cell_type": "markdown",
      "source": [
        "Q2.What is an interpreter in Python?\n",
        "\n",
        "A-> An interpreter in python is a program which executes python code line by line rather than compiling the entire code at once. Since the code is run line by line errors can be detected instantly."
      ],
      "metadata": {
        "id": "wOHkNL1vujAz"
      }
    },
    {
      "cell_type": "markdown",
      "source": [
        "Q3.What are pre-defined keywords in Python?\n",
        "\n",
        "A-> Predefined keywords in python are reserved words that have special meaning and purpose and cannot be used as variable name, function name. These keywords are useful for python syntax. There are 35 predefined keywords in pyhton 3.10.\n",
        "Some examples are if, for, while, True, False, break, etc."
      ],
      "metadata": {
        "id": "NeMho6QjvwpO"
      }
    },
    {
      "cell_type": "markdown",
      "source": [
        "Q4. Can keywords be used as variable names?\n",
        "\n",
        "A-> No, python keywords can not be used as variable names as they have pedefined meaning and are useful for python syntax. Using them as variabl names will give syntax errors."
      ],
      "metadata": {
        "id": "uMsAxK29xPIh"
      }
    },
    {
      "cell_type": "markdown",
      "source": [
        "Q5. What is mutability in Python?\n",
        "\n",
        "A-> Mutability in python means whether an object's value can be changed once it has been created.\n",
        "\n",
        "Mutable objects are the ones whose value and be modified. Examples of mutable objects are list, dictionary, sets.\n",
        "\n",
        "Immutable objects are the ones whose value cannot be chaged after its creation. Examples of immutable objects are integers, floats, strings, tuple."
      ],
      "metadata": {
        "id": "bjf_Zzbgx1Xd"
      }
    },
    {
      "cell_type": "markdown",
      "source": [
        "Q6. Why are lists mutable, but tuples are immutable?\n",
        "A-> Lists are meant to be flexible to allow for modifications and hence are store in dynamic memory and thus are mutable. Tuples, on the other hand, are optimized for perfomance and memory efficiency. So they are stored in statci memory and are immutable."
      ],
      "metadata": {
        "id": "s17CHv7F02VE"
      }
    },
    {
      "cell_type": "markdown",
      "source": [
        "Q7. What is the difference between \"==\" and \"is\" operator in python?\n",
        "\n",
        "A-> Both are comparison operators but they serve different purposes.\n",
        "   \"==\" operator checks whether two objects values are same.\n",
        "   \"is\" operator checks whether two objects refer to the same location in memory.\n",
        "\n",
        "example-> a=[4,5,6]\n",
        "          b=[4,5,6]\n",
        "\n",
        "Now, \"a==b\" will give us True as values are same\n",
        "but \"a is b\" will give us False as they are two different variables located at different memory locations."
      ],
      "metadata": {
        "id": "NGi76bXI7xTg"
      }
    },
    {
      "cell_type": "markdown",
      "source": [
        "Q8. What are logical operators in python?\n",
        "\n",
        "A-> Logical operators are used to combine conditional statements in python and give a boolean value as output. There are 3 logical operators in python:\n",
        "\n",
        "1.And- returns True if both conditions are else returns False.\n",
        "\n",
        "2.Or- returns False if both conditions are False and returns True otherwise.\n",
        "\n",
        "3.Not- It gives opposite boolean value of the expression. If True it gives False and if False it gives True."
      ],
      "metadata": {
        "id": "wRqbd0Zy9T-7"
      }
    },
    {
      "cell_type": "markdown",
      "source": [
        "Q9. What is typecasting in python?\n",
        "\n",
        "A-> Typecasting, also known as type conversion, in python is converting one data type into another. It can be done either explicitly or implicitly."
      ],
      "metadata": {
        "id": "o8fdVPyxEZ7T"
      }
    },
    {
      "cell_type": "markdown",
      "source": [
        "Q10. What is the difference between implicit and explicit type casting?\n",
        "\n",
        "A-> In explicit typecasting we manually convert one data type into another.\n",
        "example-> float(5) will convert 5, which is an integer, into float i.e 5.0.\n",
        "\n",
        "In implicit typecasting, python automatically converts smaller data types into larger data types, while performing operations, to prevent data loss.\n",
        "example-> it automatically converts boolean to integer when we add a boolean value to an interger.\n",
        "Similarly it automatically converts integer to float when we add an integer to a float.\n",
        "\n",
        "\n"
      ],
      "metadata": {
        "id": "YpmH871YFL9z"
      }
    },
    {
      "cell_type": "markdown",
      "source": [
        "Q.11 What is the purpose of conditonal statements in python?\n",
        "\n",
        "A-> Conditional statements like if,elif,else allow us to execute a different set of codes based on whether a condition is true or false, thus enabling us to make dynamic and responsive programs.\n",
        "it enables us to make programs which can handle different scenarios. It also increases efficiency by avoiding unnecessary codes and executing only that block of codes whose conditions are met."
      ],
      "metadata": {
        "id": "yul5ZFreWHxA"
      }
    },
    {
      "cell_type": "markdown",
      "source": [
        "Q.12 How does the elif statement work?\n",
        "A-> It is used when we need to check multiple conditions one after another. Python checks several conditions sequentially and executes the first set of codes where the conditions are true.\n",
        "\n",
        "Python starts to check conditions from \"if\" statement.\n",
        "If the conditions under \"if\" statement is True then it executes it and skips the rest of codes.\n",
        "If the conditions under \"if\" statement is False then it evalutes the conditions under first elif statement.\n",
        "If the conditions under first elif statement is True, then it executes it and skips remaining block of codes.\n",
        "If all \"if\" and \"elif\" conditons fail, it executes codes under \"else\" statement.\n"
      ],
      "metadata": {
        "id": "ETrvX9l_YaUY"
      }
    },
    {
      "cell_type": "markdown",
      "source": [
        "Q.13 What is the difference between for and while loop?\n",
        "\n",
        "A->For loop is used when the number of iteration is known. It is used to iterate over a sequence like list,tuple, dictionary, strings, etc. It stops when all the items in a sequence are exhausted.\n",
        "\n",
        "While loop is used when number of iteration is not known. It runs till a specific condition becomes False. It may require manual termination to avoid infinite loop."
      ],
      "metadata": {
        "id": "hMl8yRP7anAz"
      }
    },
    {
      "cell_type": "markdown",
      "source": [
        "Q.14 Describe a scenario where a while loop is more suitable than a for loop?\n",
        "\n",
        "A-> Asking a user to enter password until they enter a correct one. As we don't know how many attempts a user will take before entering a correct password. So the loop should keep running until user enters correct password."
      ],
      "metadata": {
        "id": "IqzMAgL1hmLf"
      }
    },
    {
      "cell_type": "code",
      "source": [
        "# Q1. Write a Python program to print \"Hello, World!\n",
        "\n",
        "print(\"Hello, World!\")"
      ],
      "metadata": {
        "colab": {
          "base_uri": "https://localhost:8080/"
        },
        "id": "5xfwFj9Oi8o8",
        "outputId": "ebb72a9b-132a-4532-eb59-5d080b8cb76d"
      },
      "execution_count": 4,
      "outputs": [
        {
          "output_type": "stream",
          "name": "stdout",
          "text": [
            "Hello, World!\n"
          ]
        }
      ]
    },
    {
      "cell_type": "code",
      "source": [
        "# Q2. Write a Python program that displays your name and age.\n",
        "\n",
        "name=\"Abhisek kumar\"\n",
        "age=29\n",
        "print(f\"My name is {name} and i am {age} years old.\")"
      ],
      "metadata": {
        "colab": {
          "base_uri": "https://localhost:8080/"
        },
        "id": "cBUl1PgbjS3J",
        "outputId": "38dc234f-2eca-4f78-e374-fdac5746f414"
      },
      "execution_count": null,
      "outputs": [
        {
          "output_type": "stream",
          "name": "stdout",
          "text": [
            "My name is Abhisek kumar and i am 29 years old.\n"
          ]
        }
      ]
    },
    {
      "cell_type": "code",
      "source": [
        "# Q3. Write code to print all the pre-defined keywords in Python using the keyword library\n",
        "\n",
        "import keyword\n",
        "print(keyword.kwlist)"
      ],
      "metadata": {
        "colab": {
          "base_uri": "https://localhost:8080/"
        },
        "id": "lHtBRkMRjt2H",
        "outputId": "c1873f0d-2c76-4133-fe9f-aef044a83ba3"
      },
      "execution_count": null,
      "outputs": [
        {
          "output_type": "stream",
          "name": "stdout",
          "text": [
            "['False', 'None', 'True', 'and', 'as', 'assert', 'async', 'await', 'break', 'class', 'continue', 'def', 'del', 'elif', 'else', 'except', 'finally', 'for', 'from', 'global', 'if', 'import', 'in', 'is', 'lambda', 'nonlocal', 'not', 'or', 'pass', 'raise', 'return', 'try', 'while', 'with', 'yield']\n"
          ]
        }
      ]
    },
    {
      "cell_type": "code",
      "source": [
        "# Q4. 0 Write a program that checks if a given word is a Python keyword\n",
        "\n",
        "import keyword\n",
        "word=\"False\"\n",
        "if keyword.iskeyword(word):\n",
        "    print(f\"{word} is a python keyword\")\n",
        "else:\n",
        "    print(f\"{word} is not a python keyword\")\n",
        "\n"
      ],
      "metadata": {
        "colab": {
          "base_uri": "https://localhost:8080/"
        },
        "id": "CecUMAuQkDVs",
        "outputId": "36fc6a5f-687d-4adb-f758-7d510a19b87d"
      },
      "execution_count": null,
      "outputs": [
        {
          "output_type": "stream",
          "name": "stdout",
          "text": [
            "False is a python keyword\n"
          ]
        }
      ]
    },
    {
      "cell_type": "code",
      "source": [
        "#  Q5. 0 Write a program that checks if a given word is a Python keyword\n",
        "\n",
        "a=[2,3,4,5] # created a list\n",
        "print(a)\n",
        "a[2]=99  # Tried to Modify a list and the list will be modified\n",
        "print(a)\n",
        "my_tuple=(23,4,67,90) #Created a tuple\n",
        "print(my_tuple)\n",
        "my_tuple[3]=-56  # Tried to modify a tupel which will throw a type error meaning tuples dont allow modification.\n",
        "print(my_tuple)"
      ],
      "metadata": {
        "id": "F7vKVu_fk7cK",
        "colab": {
          "base_uri": "https://localhost:8080/",
          "height": 245
        },
        "outputId": "700873bf-adc3-4cae-cb55-79e43e666d7a"
      },
      "execution_count": 2,
      "outputs": [
        {
          "output_type": "stream",
          "name": "stdout",
          "text": [
            "[2, 3, 4, 5]\n",
            "[2, 3, 99, 5]\n",
            "(23, 4, 67, 90)\n"
          ]
        },
        {
          "output_type": "error",
          "ename": "TypeError",
          "evalue": "'tuple' object does not support item assignment",
          "traceback": [
            "\u001b[0;31m---------------------------------------------------------------------------\u001b[0m",
            "\u001b[0;31mTypeError\u001b[0m                                 Traceback (most recent call last)",
            "\u001b[0;32m<ipython-input-2-7e0ff156ad04>\u001b[0m in \u001b[0;36m<cell line: 0>\u001b[0;34m()\u001b[0m\n\u001b[1;32m      5\u001b[0m \u001b[0mmy_tuple\u001b[0m\u001b[0;34m=\u001b[0m\u001b[0;34m(\u001b[0m\u001b[0;36m23\u001b[0m\u001b[0;34m,\u001b[0m\u001b[0;36m4\u001b[0m\u001b[0;34m,\u001b[0m\u001b[0;36m67\u001b[0m\u001b[0;34m,\u001b[0m\u001b[0;36m90\u001b[0m\u001b[0;34m)\u001b[0m\u001b[0;34m\u001b[0m\u001b[0;34m\u001b[0m\u001b[0m\n\u001b[1;32m      6\u001b[0m \u001b[0mprint\u001b[0m\u001b[0;34m(\u001b[0m\u001b[0mmy_tuple\u001b[0m\u001b[0;34m)\u001b[0m\u001b[0;34m\u001b[0m\u001b[0;34m\u001b[0m\u001b[0m\n\u001b[0;32m----> 7\u001b[0;31m \u001b[0mmy_tuple\u001b[0m\u001b[0;34m[\u001b[0m\u001b[0;36m3\u001b[0m\u001b[0;34m]\u001b[0m\u001b[0;34m=\u001b[0m\u001b[0;34m-\u001b[0m\u001b[0;36m56\u001b[0m\u001b[0;34m\u001b[0m\u001b[0;34m\u001b[0m\u001b[0m\n\u001b[0m\u001b[1;32m      8\u001b[0m \u001b[0mprint\u001b[0m\u001b[0;34m(\u001b[0m\u001b[0mmy_tuple\u001b[0m\u001b[0;34m)\u001b[0m\u001b[0;34m\u001b[0m\u001b[0;34m\u001b[0m\u001b[0m\n",
            "\u001b[0;31mTypeError\u001b[0m: 'tuple' object does not support item assignment"
          ]
        }
      ]
    },
    {
      "cell_type": "code",
      "source": [
        "# Q6.  Write a function to demonstrate the behavior of mutable and immutable arguments\n",
        "def change_arg(mutable,immutable):\n",
        "  mutable.pop()          #tried to change mutable argument\n",
        "  immutable+=99          #tried to change immutable argument\n",
        "  print(\"inside function(mutable):\",mutable)\n",
        "  print(\"inside function(immutable):\",immutable)\n",
        "\n",
        "\n",
        "a=[23,45,67,89] #mutable argument i.e list\n",
        "b=67  # immutable argument i.e integer\n",
        "print(a)  #printing before calling of function\n",
        "print(b)   #printing before calling of function\n",
        "change_arg(a,b)   #passed argument through function\n",
        "print(a)   # printing local variable \"a\" after calling of function. Value changes due to mutability\n",
        "print(b)   # printing local variable \"b\" after calling of function. Value does not change due to immutability.\n",
        "\n",
        "\"\"\"\n",
        "Immutable objects do not change outside of the function as python creates new object for modification, whereas mutable objects are modified\n",
        "directly which affects their original value outside of the function.\n",
        "\"\"\"\n"
      ],
      "metadata": {
        "colab": {
          "base_uri": "https://localhost:8080/"
        },
        "id": "Uu48yZ2IvfRZ",
        "outputId": "ac33f916-d6ed-4633-ffb1-c3df2a4b9ee1"
      },
      "execution_count": 3,
      "outputs": [
        {
          "output_type": "stream",
          "name": "stdout",
          "text": [
            "[23, 45, 67, 89]\n",
            "67\n",
            "inside function(mutable): [23, 45, 67]\n",
            "inside function(immutable): 166\n",
            "[23, 45, 67]\n",
            "67\n"
          ]
        }
      ]
    },
    {
      "cell_type": "code",
      "source": [
        "# Q7.  Write a function to demonstrate the behavior of mutable and immutable arguments\n",
        "\n",
        "# Q6 and Q7 are same so answer is also same.\n",
        "\n",
        "def change_arg(mutable,immutable):\n",
        "  mutable.pop()          #tried to change mutable argument\n",
        "  immutable+=99          #tried to change immutable argument\n",
        "  print(\"inside function(mutable):\",mutable)\n",
        "  print(\"inside function(immutable):\",immutable)\n",
        "\n",
        "\n",
        "a=[23,45,67,89] #mutable argument i.e list\n",
        "b=67  # immutable argument i.e integer\n",
        "print(a)  #printing before calling of function\n",
        "print(b)   #printing before calling of function\n",
        "change_arg(a,b)   #passed argument through function\n",
        "print(a)   # printing local variable \"a\" after calling of function. Value changes due to mutability\n",
        "print(b)   # printing local variable \"b\" after calling of function. Value does not change due to immutability.\n",
        "\n",
        "\"\"\"\n",
        "Immutable objects do not change outside of the function as python creates new object for modification, whereas mutable objects are modified\n",
        "directly which affects their original value outside of the function.\n",
        "\"\"\"\n"
      ],
      "metadata": {
        "id": "xm067sDE0EwV"
      },
      "execution_count": null,
      "outputs": []
    },
    {
      "cell_type": "code",
      "source": [
        "# Q8.  Write a program to demonstrate the use of logical operators\n",
        "\n",
        "# Logical operators i.e and, or, not.\n",
        "# created variables\n",
        "a= 20\n",
        "b= 30\n",
        "c= 40\n",
        "\n",
        "# using AND operator(both conditions must be True)\n",
        "print(\"And Operator:-\")\n",
        "print(a<b and b<c) # True + True = True\n",
        "print(a==b and b<c) # False + True = False\n",
        "\n",
        "# using OR operator(Atleast one conditions must be True)\n",
        "print(\"Or Operator:-\")\n",
        "print(a==b or b<c) # False + True = False\n",
        "\n",
        "# using not operator(reverses the boolean value)\n",
        "print(\"Not operator\")\n",
        "print(not(a<b and b<c))  # not(True)-> False\n",
        "\n",
        "\n"
      ],
      "metadata": {
        "colab": {
          "base_uri": "https://localhost:8080/"
        },
        "id": "hj_Ph0E83BRF",
        "outputId": "f1726607-4c32-4a1a-9b87-9d8dd033821c"
      },
      "execution_count": 9,
      "outputs": [
        {
          "output_type": "stream",
          "name": "stdout",
          "text": [
            "And Operator:-\n",
            "True\n",
            "False\n",
            "Or Operator:-\n",
            "True\n",
            "Not operator\n",
            "False\n"
          ]
        }
      ]
    },
    {
      "cell_type": "code",
      "source": [
        "# Q9. Write a Python program to convert user input from string to integer, float, and boolean type\n",
        "\n",
        "user_input=input(\"Enter a value = \")\n",
        "\n",
        "# converting to integer\n",
        "try:\n",
        "  print(int(user_input))\n",
        "except ValueError:\n",
        "  print(\"Cannot convert to integer\")\n",
        "\n",
        "\n",
        "# converting to float\n",
        "try:\n",
        "  print(float(user_input))\n",
        "except ValueError:\n",
        "  print(\"Cannot convert to float\")\n",
        "\n",
        "# converting to boolean\n",
        "\n",
        "print(bool(user_input)) # any empty string will be False, else it will always give true\n",
        "\n",
        "\n",
        "\n"
      ],
      "metadata": {
        "colab": {
          "base_uri": "https://localhost:8080/"
        },
        "id": "sEsKnRu79mtg",
        "outputId": "5ddd6ac7-fd23-4e0b-d459-f93ad0017622"
      },
      "execution_count": 12,
      "outputs": [
        {
          "output_type": "stream",
          "name": "stdout",
          "text": [
            "Enter a value = abhi\n",
            "Cannot convert to integer\n",
            "Cannot convert to integer\n",
            "True\n"
          ]
        }
      ]
    },
    {
      "cell_type": "code",
      "source": [
        "# Q.10  Write code to demonstrate type casting with list elements.\n",
        "\n",
        "my_list=[\"10\", \"20.5\", \"True\", \"False\", \"hello\"]\n",
        "new_list=[]\n",
        "\n",
        "for i in my_list:\n",
        "  try:\n",
        "    new_list.append(int(i))\n",
        "\n",
        "  except ValueError:\n",
        "    try:\n",
        "      new_list.append(float(i))\n",
        "\n",
        "    except ValueError:\n",
        "      if i.lower()==\"true\":\n",
        "        new_list.append(True)\n",
        "\n",
        "      elif i.lower()==\"false\":\n",
        "        new_list.append(False)\n",
        "\n",
        "      else:\n",
        "        new_list.append(i)\n",
        "\n",
        "print(new_list)\n",
        "\n"
      ],
      "metadata": {
        "colab": {
          "base_uri": "https://localhost:8080/"
        },
        "id": "aHy1uuzQ_eHp",
        "outputId": "45e469ae-e78a-4fd4-a041-efce7139b7ab"
      },
      "execution_count": 22,
      "outputs": [
        {
          "output_type": "stream",
          "name": "stdout",
          "text": [
            "[10, 20.5, True, False, 'hello']\n"
          ]
        }
      ]
    },
    {
      "cell_type": "code",
      "source": [
        "# Q.11  Write a program that checks if a number is positive, negative, or zero\n",
        "\n",
        "a=9\n",
        "if a>0:\n",
        "  print(f\"{a} is positive\")\n",
        "elif a<0:\n",
        "  print(f\"{a} is negative\")\n",
        "else:\n",
        "  print(f\"{a} is equal to zero\")\n",
        "\n"
      ],
      "metadata": {
        "colab": {
          "base_uri": "https://localhost:8080/"
        },
        "id": "eUk-Kf7QF-yV",
        "outputId": "1546bbfa-7823-42c0-bffb-e5cd3ee217f0"
      },
      "execution_count": 29,
      "outputs": [
        {
          "output_type": "stream",
          "name": "stdout",
          "text": [
            "9 is positive\n"
          ]
        }
      ]
    },
    {
      "cell_type": "code",
      "source": [
        "# Q.12 Write a for loop to print numbers from 1 to 100\n",
        "\n",
        "for i in range(1,101):\n",
        "  print(i,end=\" \")"
      ],
      "metadata": {
        "colab": {
          "base_uri": "https://localhost:8080/"
        },
        "id": "U9619GlvGp0M",
        "outputId": "1d64a88f-5937-4bc3-bed6-5a53bcf0c56b"
      },
      "execution_count": 30,
      "outputs": [
        {
          "output_type": "stream",
          "name": "stdout",
          "text": [
            "1 2 3 4 5 6 7 8 9 10 11 12 13 14 15 16 17 18 19 20 21 22 23 24 25 26 27 28 29 30 31 32 33 34 35 36 37 38 39 40 41 42 43 44 45 46 47 48 49 50 51 52 53 54 55 56 57 58 59 60 61 62 63 64 65 66 67 68 69 70 71 72 73 74 75 76 77 78 79 80 81 82 83 84 85 86 87 88 89 90 91 92 93 94 95 96 97 98 99 100 "
          ]
        }
      ]
    },
    {
      "cell_type": "code",
      "source": [
        "# Q.13 Write a Python program to find the sum of all even numbers between 1 and 50\n",
        "\n",
        "sum=0\n",
        "for i in range(1,51):\n",
        "  if i%2==0:\n",
        "    sum+=i\n",
        "print(sum)\n",
        "\n"
      ],
      "metadata": {
        "colab": {
          "base_uri": "https://localhost:8080/"
        },
        "id": "4w0KRIUrHAYr",
        "outputId": "3073bef6-c8b2-4124-977e-aac72a99e7a1"
      },
      "execution_count": 31,
      "outputs": [
        {
          "output_type": "stream",
          "name": "stdout",
          "text": [
            "650\n"
          ]
        }
      ]
    },
    {
      "cell_type": "code",
      "source": [
        "# Q.14 Write a program to reverse a string using a while loop\n",
        "\n",
        "my_string=\"emaculate\"\n",
        "reversed_string=\"\"\n",
        "position=len(my_string)-1\n",
        "\n",
        "while position >=0:\n",
        "  reversed_string+=my_string[position]\n",
        "  position-=1\n",
        "\n",
        "print(reversed_string)\n"
      ],
      "metadata": {
        "colab": {
          "base_uri": "https://localhost:8080/"
        },
        "id": "frVqkBI4Hquv",
        "outputId": "449858e7-1dc7-493e-f4c9-2a742cccd34b"
      },
      "execution_count": 35,
      "outputs": [
        {
          "output_type": "stream",
          "name": "stdout",
          "text": [
            "etalucame\n"
          ]
        }
      ]
    },
    {
      "cell_type": "code",
      "source": [
        "# Q15.Write a Python program to calculate the factorial of a number provided by the user using a while loop.\n",
        "\n",
        "user_input=int(input(\"Enter number = \"))\n",
        "counter=1\n",
        "factorial=1\n",
        "while counter <= user_input:\n",
        "  factorial*=counter\n",
        "  counter+=1\n",
        "\n",
        "print(factorial)\n",
        "\n",
        "\n"
      ],
      "metadata": {
        "colab": {
          "base_uri": "https://localhost:8080/"
        },
        "id": "G4dQw3pdLYXq",
        "outputId": "dfbb3a5c-094a-405c-cf9d-e783f6e0afdc"
      },
      "execution_count": 1,
      "outputs": [
        {
          "output_type": "stream",
          "name": "stdout",
          "text": [
            "Enter number = 0\n",
            "1\n"
          ]
        }
      ]
    }
  ]
}